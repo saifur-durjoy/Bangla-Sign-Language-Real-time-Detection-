{
 "cells": [
  {
   "cell_type": "markdown",
   "metadata": {},
   "source": [
    "# 1. Dependencies"
   ]
  },
  {
   "cell_type": "code",
   "execution_count": 1,
   "metadata": {},
   "outputs": [
    {
     "name": "stdout",
     "output_type": "stream",
     "text": [
      "Requirement already satisfied: opencv-python in e:\\test proj\\tfodcourse\\tfod\\lib\\site-packages (4.6.0.66)\n",
      "Requirement already satisfied: numpy>=1.14.5 in e:\\test proj\\tfodcourse\\tfod\\lib\\site-packages (from opencv-python) (1.22.3)\n"
     ]
    },
    {
     "name": "stderr",
     "output_type": "stream",
     "text": [
      "WARNING: Ignoring invalid distribution -rotobuf (e:\\test proj\\tfodcourse\\tfod\\lib\\site-packages)\n",
      "WARNING: Ignoring invalid distribution -rotobuf (e:\\test proj\\tfodcourse\\tfod\\lib\\site-packages)\n",
      "WARNING: Ignoring invalid distribution -rotobuf (e:\\test proj\\tfodcourse\\tfod\\lib\\site-packages)\n",
      "WARNING: Ignoring invalid distribution -rotobuf (e:\\test proj\\tfodcourse\\tfod\\lib\\site-packages)\n",
      "WARNING: Ignoring invalid distribution -rotobuf (e:\\test proj\\tfodcourse\\tfod\\lib\\site-packages)\n",
      "WARNING: Ignoring invalid distribution -rotobuf (e:\\test proj\\tfodcourse\\tfod\\lib\\site-packages)\n",
      "WARNING: You are using pip version 22.0.4; however, version 22.2.2 is available.\n",
      "You should consider upgrading via the 'E:\\test proj\\TFODCourse\\tfod\\Scripts\\python.exe -m pip install --upgrade pip' command.\n"
     ]
    }
   ],
   "source": [
    "!pip install opencv-python"
   ]
  },
  {
   "cell_type": "code",
   "execution_count": 1,
   "metadata": {},
   "outputs": [],
   "source": [
    "\n",
    "import cv2 \n",
    "\n",
    "\n",
    "import uuid\n",
    "\n",
    "\n",
    "import os\n",
    "\n",
    "\n",
    "import time"
   ]
  },
  {
   "cell_type": "markdown",
   "metadata": {},
   "source": [
    "# 2. Collect images"
   ]
  },
  {
   "cell_type": "code",
   "execution_count": 48,
   "metadata": {},
   "outputs": [],
   "source": [
    "labels = ['Ami']\n",
    "number_imgs = 5"
   ]
  },
  {
   "cell_type": "markdown",
   "metadata": {},
   "source": [
    "# 3. Folders setup"
   ]
  },
  {
   "cell_type": "code",
   "execution_count": 49,
   "metadata": {},
   "outputs": [],
   "source": [
    "IMAGES_PATH = os.path.join('Tensorflow', 'workspace', 'images', 'collectedimages')"
   ]
  },
  {
   "cell_type": "code",
   "execution_count": 50,
   "metadata": {},
   "outputs": [],
   "source": [
    "if not os.path.exists(IMAGES_PATH):\n",
    "    if os.name == 'posix':\n",
    "        !mkdir -p {IMAGES_PATH}\n",
    "    if os.name == 'nt':\n",
    "         !mkdir {IMAGES_PATH}\n",
    "for label in labels:\n",
    "    path = os.path.join(IMAGES_PATH, label)\n",
    "    if not os.path.exists(path):\n",
    "        !mkdir {path}"
   ]
  },
  {
   "cell_type": "code",
   "execution_count": 51,
   "metadata": {},
   "outputs": [],
   "source": [
    "vid = cv2.VideoCapture(0)\n",
    "  \n",
    "while(True):\n",
    "      \n",
    " \n",
    "    ret, frame = vid.read()\n",
    "  \n",
    "    # Display the resulting frame\n",
    "    cv2.imshow('frame', frame)\n",
    "      \n",
    "\n",
    "    if cv2.waitKey(1) & 0xFF == ord('q'):\n",
    "        break\n",
    "  \n",
    "# After the loop release the cap object\n",
    "vid.release()\n",
    "# Destroy all the windows\n",
    "cv2.destroyAllWindows()"
   ]
  },
  {
   "cell_type": "markdown",
   "metadata": {},
   "source": [
    "# 4. Capturing Images"
   ]
  },
  {
   "cell_type": "code",
   "execution_count": 56,
   "metadata": {},
   "outputs": [
    {
     "name": "stdout",
     "output_type": "stream",
     "text": [
      "Collecting images for Ami\n",
      "Collecting image 0\n",
      "Collecting image 1\n",
      "Collecting image 2\n",
      "Collecting image 3\n",
      "Collecting image 4\n"
     ]
    }
   ],
   "source": [
    "for label in labels:\n",
    "    cap = cv2.VideoCapture(0)\n",
    "    print('Collecting images for {}'.format(label))\n",
    "    time.sleep(5)\n",
    "    for imgnum in range(number_imgs):\n",
    "        print('Collecting image {}'.format(imgnum))\n",
    "        ret, frame = cap.read()\n",
    "        imgname = os.path.join(IMAGES_PATH,label,label+'.'+'{}.jpg'.format(str(uuid.uuid1())))\n",
    "        cv2.imwrite(imgname, frame)\n",
    "        cv2.imshow('frame', frame)\n",
    "        time.sleep(2)\n",
    "\n",
    "        if cv2.waitKey(1) & 0xFF == ord('q'):\n",
    "            break\n",
    "cap.release()\n",
    "cv2.destroyAllWindows()"
   ]
  },
  {
   "cell_type": "markdown",
   "metadata": {},
   "source": [
    "# 5. Image Labelling with labelImg"
   ]
  },
  {
   "cell_type": "code",
   "execution_count": null,
   "metadata": {},
   "outputs": [],
   "source": []
  },
  {
   "cell_type": "code",
   "execution_count": 2,
   "metadata": {},
   "outputs": [
    {
     "name": "stdout",
     "output_type": "stream",
     "text": [
      "Requirement already satisfied: pyqt5 in e:\\test proj\\tfodcourse\\tfod\\lib\\site-packages (5.15.7)\n",
      "Requirement already satisfied: lxml in e:\\test proj\\tfodcourse\\tfod\\lib\\site-packages (4.9.1)\n",
      "Requirement already satisfied: PyQt5-sip<13,>=12.11 in e:\\test proj\\tfodcourse\\tfod\\lib\\site-packages (from pyqt5) (12.11.0)\n",
      "Requirement already satisfied: PyQt5-Qt5>=5.15.0 in e:\\test proj\\tfodcourse\\tfod\\lib\\site-packages (from pyqt5) (5.15.2)\n"
     ]
    },
    {
     "name": "stderr",
     "output_type": "stream",
     "text": [
      "WARNING: Ignoring invalid distribution -rotobuf (e:\\test proj\\tfodcourse\\tfod\\lib\\site-packages)\n",
      "WARNING: Ignoring invalid distribution -rotobuf (e:\\test proj\\tfodcourse\\tfod\\lib\\site-packages)\n",
      "WARNING: Ignoring invalid distribution -rotobuf (e:\\test proj\\tfodcourse\\tfod\\lib\\site-packages)\n",
      "WARNING: Ignoring invalid distribution -rotobuf (e:\\test proj\\tfodcourse\\tfod\\lib\\site-packages)\n",
      "WARNING: Ignoring invalid distribution -rotobuf (e:\\test proj\\tfodcourse\\tfod\\lib\\site-packages)\n",
      "WARNING: Ignoring invalid distribution -rotobuf (e:\\test proj\\tfodcourse\\tfod\\lib\\site-packages)\n",
      "WARNING: You are using pip version 22.0.4; however, version 22.2.2 is available.\n",
      "You should consider upgrading via the 'E:\\test proj\\TFODCourse\\tfod\\Scripts\\python.exe -m pip install --upgrade pip' command.\n"
     ]
    }
   ],
   "source": [
    "!pip install --upgrade pyqt5 lxml"
   ]
  },
  {
   "cell_type": "code",
   "execution_count": 3,
   "metadata": {},
   "outputs": [],
   "source": [
    "LABELIMG_PATH = os.path.join('Tensorflow', 'labelimg')"
   ]
  },
  {
   "cell_type": "code",
   "execution_count": 4,
   "metadata": {},
   "outputs": [],
   "source": [
    "if not os.path.exists(LABELIMG_PATH):\n",
    "    !mkdir {LABELIMG_PATH}\n",
    "    !git clone https://github.com/tzutalin/labelImg {LABELIMG_PATH}"
   ]
  },
  {
   "cell_type": "code",
   "execution_count": 5,
   "metadata": {},
   "outputs": [],
   "source": [
    "if os.name == 'posix':\n",
    "    !make qt5py3\n",
    "if os.name =='nt':\n",
    "    !cd {LABELIMG_PATH} && pyrcc5 -o libs/resources.py resources.qrc"
   ]
  },
  {
   "cell_type": "code",
   "execution_count": null,
   "metadata": {},
   "outputs": [],
   "source": []
  },
  {
   "cell_type": "code",
   "execution_count": 6,
   "metadata": {},
   "outputs": [
    {
     "name": "stdout",
     "output_type": "stream",
     "text": [
      "Cancel creation.\n",
      "Cancel creation.\n",
      "Image:E:\\test proj\\TFODCourse\\Tensorflow\\workspace\\images\\collectedimages\\Prottibondhi\\Prottibondhi.3a08962d-2467-11ed-aa26-80fa5b889135.jpg -> Annotation:E:/test proj/TFODCourse/Tensorflow/workspace/images/collectedimages/Prottibondhi/Prottibondhi.3a08962d-2467-11ed-aa26-80fa5b889135.xml\n",
      "Cancel creation.\n",
      "Cancel creation.\n",
      "Image:E:\\test proj\\TFODCourse\\Tensorflow\\workspace\\images\\collectedimages\\Prottibondhi\\Prottibondhi.9a95e089-2467-11ed-8536-80fa5b889135.jpg -> Annotation:E:/test proj/TFODCourse/Tensorflow/workspace/images/collectedimages/Prottibondhi/Prottibondhi.9a95e089-2467-11ed-8536-80fa5b889135.xml\n",
      "Image:E:\\test proj\\TFODCourse\\Tensorflow\\workspace\\images\\collectedimages\\Prottibondhi\\Prottibondhi.38d30043-2467-11ed-a6e6-80fa5b889135.jpg -> Annotation:E:/test proj/TFODCourse/Tensorflow/workspace/images/collectedimages/Prottibondhi/Prottibondhi.38d30043-2467-11ed-a6e6-80fa5b889135.xml\n",
      "Image:E:\\test proj\\TFODCourse\\Tensorflow\\workspace\\images\\collectedimages\\Prottibondhi\\Prottibondhi.75c3df04-2467-11ed-bc41-80fa5b889135.jpg -> Annotation:E:/test proj/TFODCourse/Tensorflow/workspace/images/collectedimages/Prottibondhi/Prottibondhi.75c3df04-2467-11ed-bc41-80fa5b889135.xml\n",
      "Image:E:\\test proj\\TFODCourse\\Tensorflow\\workspace\\images\\collectedimages\\Prottibondhi\\Prottibondhi.76fabd53-2467-11ed-876c-80fa5b889135.jpg -> Annotation:E:/test proj/TFODCourse/Tensorflow/workspace/images/collectedimages/Prottibondhi/Prottibondhi.76fabd53-2467-11ed-876c-80fa5b889135.xml\n",
      "Image:E:\\test proj\\TFODCourse\\Tensorflow\\workspace\\images\\collectedimages\\Prottibondhi\\Prottibondhi.95c08712-2467-11ed-9588-80fa5b889135.jpg -> Annotation:E:/test proj/TFODCourse/Tensorflow/workspace/images/collectedimages/Prottibondhi/Prottibondhi.95c08712-2467-11ed-9588-80fa5b889135.xml\n",
      "Image:E:\\test proj\\TFODCourse\\Tensorflow\\workspace\\images\\collectedimages\\Prottibondhi\\Prottibondhi.96f7e162-2467-11ed-9fac-80fa5b889135.jpg -> Annotation:E:/test proj/TFODCourse/Tensorflow/workspace/images/collectedimages/Prottibondhi/Prottibondhi.96f7e162-2467-11ed-9fac-80fa5b889135.xml\n",
      "Image:E:\\test proj\\TFODCourse\\Tensorflow\\workspace\\images\\collectedimages\\Prottibondhi\\Prottibondhi.379e210c-2467-11ed-a548-80fa5b889135.jpg -> Annotation:E:/test proj/TFODCourse/Tensorflow/workspace/images/collectedimages/Prottibondhi/Prottibondhi.379e210c-2467-11ed-a548-80fa5b889135.xml\n",
      "Image:E:\\test proj\\TFODCourse\\Tensorflow\\workspace\\images\\collectedimages\\Prottibondhi\\Prottibondhi.748eacc9-2467-11ed-b666-80fa5b889135.jpg -> Annotation:E:/test proj/TFODCourse/Tensorflow/workspace/images/collectedimages/Prottibondhi/Prottibondhi.748eacc9-2467-11ed-b666-80fa5b889135.xml\n",
      "Image:E:\\test proj\\TFODCourse\\Tensorflow\\workspace\\images\\collectedimages\\Prottibondhi\\Prottibondhi.782f66b1-2467-11ed-b2dc-80fa5b889135.jpg -> Annotation:E:/test proj/TFODCourse/Tensorflow/workspace/images/collectedimages/Prottibondhi/Prottibondhi.782f66b1-2467-11ed-b2dc-80fa5b889135.xml\n",
      "Image:E:\\test proj\\TFODCourse\\Tensorflow\\workspace\\images\\collectedimages\\Prottibondhi\\Prottibondhi.982b5372-2467-11ed-a7ad-80fa5b889135.jpg -> Annotation:E:/test proj/TFODCourse/Tensorflow/workspace/images/collectedimages/Prottibondhi/Prottibondhi.982b5372-2467-11ed-a7ad-80fa5b889135.xml\n",
      "Image:E:\\test proj\\TFODCourse\\Tensorflow\\workspace\\images\\collectedimages\\Prottibondhi\\Prottibondhi.995fa5ad-2467-11ed-8af0-80fa5b889135.jpg -> Annotation:E:/test proj/TFODCourse/Tensorflow/workspace/images/collectedimages/Prottibondhi/Prottibondhi.995fa5ad-2467-11ed-8af0-80fa5b889135.xml\n",
      "Image:E:\\test proj\\TFODCourse\\Tensorflow\\workspace\\images\\collectedimages\\Prottibondhi\\Prottibondhi.7355dd60-2467-11ed-847d-80fa5b889135.jpg -> Annotation:E:/test proj/TFODCourse/Tensorflow/workspace/images/collectedimages/Prottibondhi/Prottibondhi.7355dd60-2467-11ed-847d-80fa5b889135.xml\n",
      "Image:E:\\test proj\\TFODCourse\\Tensorflow\\workspace\\images\\collectedimages\\Prottibondhi\\Prottibondhi.35319aa0-2467-11ed-beda-80fa5b889135.jpg -> Annotation:E:/test proj/TFODCourse/Tensorflow/workspace/images/collectedimages/Prottibondhi/Prottibondhi.35319aa0-2467-11ed-beda-80fa5b889135.xml\n",
      "Image:E:\\test proj\\TFODCourse\\Tensorflow\\workspace\\images\\collectedimages\\Prottibondhi\\Prottibondhi.366847a0-2467-11ed-bbcc-80fa5b889135.jpg -> Annotation:E:/test proj/TFODCourse/Tensorflow/workspace/images/collectedimages/Prottibondhi/Prottibondhi.366847a0-2467-11ed-bbcc-80fa5b889135.xml\n",
      "Image:E:\\test proj\\TFODCourse\\Tensorflow\\workspace\\images\\collectedimages\\Prottibondhi\\Prottibondhi.c8aa4410-2467-11ed-ad9a-80fa5b889135.jpg -> Annotation:E:/test proj/TFODCourse/Tensorflow/workspace/images/collectedimages/Prottibondhi/Prottibondhi.c8aa4410-2467-11ed-ad9a-80fa5b889135.xml\n",
      "Image:E:\\test proj\\TFODCourse\\Tensorflow\\workspace\\images\\collectedimages\\Prottibondhi\\Prottibondhi.c9ddad58-2467-11ed-a623-80fa5b889135.jpg -> Annotation:E:/test proj/TFODCourse/Tensorflow/workspace/images/collectedimages/Prottibondhi/Prottibondhi.c9ddad58-2467-11ed-a623-80fa5b889135.xml\n",
      "Image:E:\\test proj\\TFODCourse\\Tensorflow\\workspace\\images\\collectedimages\\Prottibondhi\\Prottibondhi.c63cae11-2467-11ed-9a64-80fa5b889135.jpg -> Annotation:E:/test proj/TFODCourse/Tensorflow/workspace/images/collectedimages/Prottibondhi/Prottibondhi.c63cae11-2467-11ed-9a64-80fa5b889135.xml\n",
      "Image:E:\\test proj\\TFODCourse\\Tensorflow\\workspace\\images\\collectedimages\\Prottibondhi\\Prottibondhi.c77494e7-2467-11ed-a05c-80fa5b889135.jpg -> Annotation:E:/test proj/TFODCourse/Tensorflow/workspace/images/collectedimages/Prottibondhi/Prottibondhi.c77494e7-2467-11ed-a05c-80fa5b889135.xml\n",
      "Image:E:\\test proj\\TFODCourse\\Tensorflow\\workspace\\images\\collectedimages\\Prottibondhi\\Prottibondhi.cb131a93-2467-11ed-8e13-80fa5b889135.jpg -> Annotation:E:/test proj/TFODCourse/Tensorflow/workspace/images/collectedimages/Prottibondhi/Prottibondhi.cb131a93-2467-11ed-8e13-80fa5b889135.xml\n",
      "Image:E:\\test proj\\TFODCourse\\Tensorflow\\workspace\\images\\collectedimages\\Ami\\Ami.0b1376b4-2469-11ed-acaa-80fa5b889135.jpg -> Annotation:E:/test proj/TFODCourse/Tensorflow/workspace/images/collectedimages/Ami/Ami.0b1376b4-2469-11ed-acaa-80fa5b889135.xml\n",
      "Image:E:\\test proj\\TFODCourse\\Tensorflow\\workspace\\images\\collectedimages\\Ami\\Ami.0c472277-2469-11ed-aa09-80fa5b889135.jpg -> Annotation:E:/test proj/TFODCourse/Tensorflow/workspace/images/collectedimages/Ami/Ami.0c472277-2469-11ed-aa09-80fa5b889135.xml\n",
      "Image:E:\\test proj\\TFODCourse\\Tensorflow\\workspace\\images\\collectedimages\\Ami\\Ami.0d7b5173-2469-11ed-969f-80fa5b889135.jpg -> Annotation:E:/test proj/TFODCourse/Tensorflow/workspace/images/collectedimages/Ami/Ami.0d7b5173-2469-11ed-969f-80fa5b889135.xml\n",
      "Image:E:\\test proj\\TFODCourse\\Tensorflow\\workspace\\images\\collectedimages\\Ami\\Ami.3b35fa98-2469-11ed-a929-80fa5b889135.jpg -> Annotation:E:/test proj/TFODCourse/Tensorflow/workspace/images/collectedimages/Ami/Ami.3b35fa98-2469-11ed-a929-80fa5b889135.xml\n",
      "Cancel creation.\n",
      "Image:E:\\test proj\\TFODCourse\\Tensorflow\\workspace\\images\\collectedimages\\Ami\\Ami.3c702bc8-2469-11ed-b82c-80fa5b889135.jpg -> Annotation:E:/test proj/TFODCourse/Tensorflow/workspace/images/collectedimages/Ami/Ami.3c702bc8-2469-11ed-b82c-80fa5b889135.xml\n",
      "Image:E:\\test proj\\TFODCourse\\Tensorflow\\workspace\\images\\collectedimages\\Ami\\Ami.3da57905-2469-11ed-8125-80fa5b889135.jpg -> Annotation:E:/test proj/TFODCourse/Tensorflow/workspace/images/collectedimages/Ami/Ami.3da57905-2469-11ed-8125-80fa5b889135.xml\n",
      "Image:E:\\test proj\\TFODCourse\\Tensorflow\\workspace\\images\\collectedimages\\Ami\\Ami.3ed90c23-2469-11ed-8a55-80fa5b889135.jpg -> Annotation:E:/test proj/TFODCourse/Tensorflow/workspace/images/collectedimages/Ami/Ami.3ed90c23-2469-11ed-8a55-80fa5b889135.xml\n",
      "Image:E:\\test proj\\TFODCourse\\Tensorflow\\workspace\\images\\collectedimages\\Ami\\Ami.08a5d995-2469-11ed-a4d5-80fa5b889135.jpg -> Annotation:E:/test proj/TFODCourse/Tensorflow/workspace/images/collectedimages/Ami/Ami.08a5d995-2469-11ed-a4d5-80fa5b889135.xml\n",
      "Image:E:\\test proj\\TFODCourse\\Tensorflow\\workspace\\images\\collectedimages\\Ami\\Ami.09df27d0-2469-11ed-8ba3-80fa5b889135.jpg -> Annotation:E:/test proj/TFODCourse/Tensorflow/workspace/images/collectedimages/Ami/Ami.09df27d0-2469-11ed-8ba3-80fa5b889135.xml\n",
      "Image:E:\\test proj\\TFODCourse\\Tensorflow\\workspace\\images\\collectedimages\\Ami\\Ami.25a2c6cc-2469-11ed-8869-80fa5b889135.jpg -> Annotation:E:/test proj/TFODCourse/Tensorflow/workspace/images/collectedimages/Ami/Ami.25a2c6cc-2469-11ed-8869-80fa5b889135.xml\n",
      "Image:E:\\test proj\\TFODCourse\\Tensorflow\\workspace\\images\\collectedimages\\Ami\\Ami.26d6d2c4-2469-11ed-bb52-80fa5b889135.jpg -> Annotation:E:/test proj/TFODCourse/Tensorflow/workspace/images/collectedimages/Ami/Ami.26d6d2c4-2469-11ed-bb52-80fa5b889135.xml\n",
      "Image:E:\\test proj\\TFODCourse\\Tensorflow\\workspace\\images\\collectedimages\\Ami\\Ami.246aa991-2469-11ed-91f9-80fa5b889135.jpg -> Annotation:E:/test proj/TFODCourse/Tensorflow/workspace/images/collectedimages/Ami/Ami.246aa991-2469-11ed-91f9-80fa5b889135.xml\n",
      "Image:E:\\test proj\\TFODCourse\\Tensorflow\\workspace\\images\\collectedimages\\Ami\\Ami.280b49bc-2469-11ed-a96b-80fa5b889135.jpg -> Annotation:E:/test proj/TFODCourse/Tensorflow/workspace/images/collectedimages/Ami/Ami.280b49bc-2469-11ed-a96b-80fa5b889135.xml\n",
      "Image:E:\\test proj\\TFODCourse\\Tensorflow\\workspace\\images\\collectedimages\\Ami\\Ami.400d5d13-2469-11ed-ae98-80fa5b889135.jpg -> Annotation:E:/test proj/TFODCourse/Tensorflow/workspace/images/collectedimages/Ami/Ami.400d5d13-2469-11ed-ae98-80fa5b889135.xml\n",
      "Image:E:\\test proj\\TFODCourse\\Tensorflow\\workspace\\images\\collectedimages\\Ami\\Ami.29407d88-2469-11ed-b698-80fa5b889135.jpg -> Annotation:E:/test proj/TFODCourse/Tensorflow/workspace/images/collectedimages/Ami/Ami.29407d88-2469-11ed-b698-80fa5b889135.xml\n",
      "Image:E:\\test proj\\TFODCourse\\Tensorflow\\workspace\\images\\collectedimages\\Ami\\Ami.e9ab66e4-2468-11ed-af28-80fa5b889135.jpg -> Annotation:E:/test proj/TFODCourse/Tensorflow/workspace/images/collectedimages/Ami/Ami.e9ab66e4-2468-11ed-af28-80fa5b889135.xml\n",
      "Image:E:\\test proj\\TFODCourse\\Tensorflow\\workspace\\images\\collectedimages\\Ami\\Ami.eae22e6d-2468-11ed-884d-80fa5b889135.jpg -> Annotation:E:/test proj/TFODCourse/Tensorflow/workspace/images/collectedimages/Ami/Ami.eae22e6d-2468-11ed-884d-80fa5b889135.xml\n",
      "Image:E:\\test proj\\TFODCourse\\Tensorflow\\workspace\\images\\collectedimages\\Ami\\Ami.ec184c0d-2468-11ed-99f8-80fa5b889135.jpg -> Annotation:E:/test proj/TFODCourse/Tensorflow/workspace/images/collectedimages/Ami/Ami.ec184c0d-2468-11ed-99f8-80fa5b889135.xml\n",
      "Image:E:\\test proj\\TFODCourse\\Tensorflow\\workspace\\images\\collectedimages\\Ami\\Ami.ed4de54a-2468-11ed-b15e-80fa5b889135.jpg -> Annotation:E:/test proj/TFODCourse/Tensorflow/workspace/images/collectedimages/Ami/Ami.ed4de54a-2468-11ed-b15e-80fa5b889135.xml\n",
      "Image:E:\\test proj\\TFODCourse\\Tensorflow\\workspace\\images\\collectedimages\\Ami\\Ami.ee83c22e-2468-11ed-9af8-80fa5b889135.jpg -> Annotation:E:/test proj/TFODCourse/Tensorflow/workspace/images/collectedimages/Ami/Ami.ee83c22e-2468-11ed-9af8-80fa5b889135.xml\n",
      "Image:E:\\test proj\\TFODCourse\\Tensorflow\\workspace\\images\\collectedimages\\Bak\\Bak.7a653516-2466-11ed-a1bf-80fa5b889135.jpg -> Annotation:E:/test proj/TFODCourse/Tensorflow/workspace/images/collectedimages/Bak/Bak.7a653516-2466-11ed-a1bf-80fa5b889135.xml\n",
      "Image:E:\\test proj\\TFODCourse\\Tensorflow\\workspace\\images\\collectedimages\\Bak\\Bak.7b999d81-2466-11ed-ae07-80fa5b889135.jpg -> Annotation:E:/test proj/TFODCourse/Tensorflow/workspace/images/collectedimages/Bak/Bak.7b999d81-2466-11ed-ae07-80fa5b889135.xml\n",
      "Image:E:\\test proj\\TFODCourse\\Tensorflow\\workspace\\images\\collectedimages\\Bak\\Bak.76c3212d-2466-11ed-b656-80fa5b889135.jpg -> Annotation:E:/test proj/TFODCourse/Tensorflow/workspace/images/collectedimages/Bak/Bak.76c3212d-2466-11ed-b656-80fa5b889135.xml\n",
      "Image:E:\\test proj\\TFODCourse\\Tensorflow\\workspace\\images\\collectedimages\\Bak\\Bak.77fb6f72-2466-11ed-bd97-80fa5b889135.jpg -> Annotation:E:/test proj/TFODCourse/Tensorflow/workspace/images/collectedimages/Bak/Bak.77fb6f72-2466-11ed-bd97-80fa5b889135.xml\n",
      "Image:E:\\test proj\\TFODCourse\\Tensorflow\\workspace\\images\\collectedimages\\Bak\\Bak.5274fce4-2466-11ed-bdcf-80fa5b889135.jpg -> Annotation:E:/test proj/TFODCourse/Tensorflow/workspace/images/collectedimages/Bak/Bak.5274fce4-2466-11ed-bdcf-80fa5b889135.xml\n",
      "Image:E:\\test proj\\TFODCourse\\Tensorflow\\workspace\\images\\collectedimages\\Bak\\Bak.7930e60e-2466-11ed-b86c-80fa5b889135.jpg -> Annotation:E:/test proj/TFODCourse/Tensorflow/workspace/images/collectedimages/Bak/Bak.7930e60e-2466-11ed-b86c-80fa5b889135.xml\n",
      "Image:E:\\test proj\\TFODCourse\\Tensorflow\\workspace\\images\\collectedimages\\Bak\\Bak.aee9c8b1-2466-11ed-b251-80fa5b889135.jpg -> Annotation:E:/test proj/TFODCourse/Tensorflow/workspace/images/collectedimages/Bak/Bak.aee9c8b1-2466-11ed-b251-80fa5b889135.xml\n",
      "Image:E:\\test proj\\TFODCourse\\Tensorflow\\workspace\\images\\collectedimages\\Bak\\Bak.b3c2f69a-2466-11ed-ae44-80fa5b889135.jpg -> Annotation:E:/test proj/TFODCourse/Tensorflow/workspace/images/collectedimages/Bak/Bak.b3c2f69a-2466-11ed-ae44-80fa5b889135.xml\n",
      "Image:E:\\test proj\\TFODCourse\\Tensorflow\\workspace\\images\\collectedimages\\Bak\\Bak.b28cd9a3-2466-11ed-93af-80fa5b889135.jpg -> Annotation:E:/test proj/TFODCourse/Tensorflow/workspace/images/collectedimages/Bak/Bak.b28cd9a3-2466-11ed-93af-80fa5b889135.xml\n",
      "Image:E:\\test proj\\TFODCourse\\Tensorflow\\workspace\\images\\collectedimages\\Bak\\Bak.b022795d-2466-11ed-ac43-80fa5b889135.jpg -> Annotation:E:/test proj/TFODCourse/Tensorflow/workspace/images/collectedimages/Bak/Bak.b022795d-2466-11ed-ac43-80fa5b889135.xml\n",
      "Image:E:\\test proj\\TFODCourse\\Tensorflow\\workspace\\images\\collectedimages\\Bak\\Bak.b1575453-2466-11ed-8e16-80fa5b889135.jpg -> Annotation:E:/test proj/TFODCourse/Tensorflow/workspace/images/collectedimages/Bak/Bak.b1575453-2466-11ed-8e16-80fa5b889135.xml\n",
      "Image:E:\\test proj\\TFODCourse\\Tensorflow\\workspace\\images\\collectedimages\\Bak\\Bak.cc927639-2466-11ed-a305-80fa5b889135.jpg -> Annotation:E:/test proj/TFODCourse/Tensorflow/workspace/images/collectedimages/Bak/Bak.cc927639-2466-11ed-a305-80fa5b889135.xml\n",
      "Image:E:\\test proj\\TFODCourse\\Tensorflow\\workspace\\images\\collectedimages\\Bak\\Bak.cdc9827f-2466-11ed-a243-80fa5b889135.jpg -> Annotation:E:/test proj/TFODCourse/Tensorflow/workspace/images/collectedimages/Bak/Bak.cdc9827f-2466-11ed-a243-80fa5b889135.xml\n",
      "Image:E:\\test proj\\TFODCourse\\Tensorflow\\workspace\\images\\collectedimages\\Bak\\Bak.cefeb8b4-2466-11ed-9ffe-80fa5b889135.jpg -> Annotation:E:/test proj/TFODCourse/Tensorflow/workspace/images/collectedimages/Bak/Bak.cefeb8b4-2466-11ed-9ffe-80fa5b889135.xml\n",
      "Image:E:\\test proj\\TFODCourse\\Tensorflow\\workspace\\images\\collectedimages\\Bak\\Bak.d031fe9d-2466-11ed-a514-80fa5b889135.jpg -> Annotation:E:/test proj/TFODCourse/Tensorflow/workspace/images/collectedimages/Bak/Bak.d031fe9d-2466-11ed-a514-80fa5b889135.xml\n",
      "Image:E:\\test proj\\TFODCourse\\Tensorflow\\workspace\\images\\collectedimages\\Bak\\Bak.d166bd09-2466-11ed-9a57-80fa5b889135.jpg -> Annotation:E:/test proj/TFODCourse/Tensorflow/workspace/images/collectedimages/Bak/Bak.d166bd09-2466-11ed-9a57-80fa5b889135.xml\n",
      "Image:E:\\test proj\\TFODCourse\\Tensorflow\\workspace\\images\\collectedimages\\Bak\\Bak.f3ad7b83-2466-11ed-a59c-80fa5b889135.jpg -> Annotation:E:/test proj/TFODCourse/Tensorflow/workspace/images/collectedimages/Bak/Bak.f3ad7b83-2466-11ed-a59c-80fa5b889135.xml\n",
      "Image:E:\\test proj\\TFODCourse\\Tensorflow\\workspace\\images\\collectedimages\\Bak\\Bak.f4e09ff0-2466-11ed-bea5-80fa5b889135.jpg -> Annotation:E:/test proj/TFODCourse/Tensorflow/workspace/images/collectedimages/Bak/Bak.f4e09ff0-2466-11ed-bea5-80fa5b889135.xml\n",
      "Image:E:\\test proj\\TFODCourse\\Tensorflow\\workspace\\images\\collectedimages\\Bak\\Bak.f276a1c1-2466-11ed-801c-80fa5b889135.jpg -> Annotation:E:/test proj/TFODCourse/Tensorflow/workspace/images/collectedimages/Bak/Bak.f276a1c1-2466-11ed-801c-80fa5b889135.xml\n",
      "Image:E:\\test proj\\TFODCourse\\Tensorflow\\workspace\\images\\collectedimages\\Bak\\Bak.f61412c1-2466-11ed-9777-80fa5b889135.jpg -> Annotation:E:/test proj/TFODCourse/Tensorflow/workspace/images/collectedimages/Bak/Bak.f61412c1-2466-11ed-9777-80fa5b889135.xml\n",
      "Image:E:\\test proj\\TFODCourse\\Tensorflow\\workspace\\images\\collectedimages\\Bak\\Bak.f748894e-2466-11ed-b357-80fa5b889135.jpg -> Annotation:E:/test proj/TFODCourse/Tensorflow/workspace/images/collectedimages/Bak/Bak.f748894e-2466-11ed-b357-80fa5b889135.xml\n",
      "Image:E:\\test proj\\TFODCourse\\Tensorflow\\workspace\\images\\collectedimages\\Bhalo\\Bhalo.037ad464-2468-11ed-a5b9-80fa5b889135.jpg -> Annotation:E:/test proj/TFODCourse/Tensorflow/workspace/images/collectedimages/Bhalo/Bhalo.037ad464-2468-11ed-a5b9-80fa5b889135.xml\n",
      "Image:E:\\test proj\\TFODCourse\\Tensorflow\\workspace\\images\\collectedimages\\Bhalo\\Bhalo.142b3118-2468-11ed-b651-80fa5b889135.jpg -> Annotation:E:/test proj/TFODCourse/Tensorflow/workspace/images/collectedimages/Bhalo/Bhalo.142b3118-2468-11ed-b651-80fa5b889135.xml\n",
      "Image:E:\\test proj\\TFODCourse\\Tensorflow\\workspace\\images\\collectedimages\\Bhalo\\Bhalo.483a7cbc-2468-11ed-9f7d-80fa5b889135.jpg -> Annotation:E:/test proj/TFODCourse/Tensorflow/workspace/images/collectedimages/Bhalo/Bhalo.483a7cbc-2468-11ed-9f7d-80fa5b889135.xml\n",
      "Image:E:\\test proj\\TFODCourse\\Tensorflow\\workspace\\images\\collectedimages\\Bhalo\\Bhalo.496dca1f-2468-11ed-a346-80fa5b889135.jpg -> Annotation:E:/test proj/TFODCourse/Tensorflow/workspace/images/collectedimages/Bhalo/Bhalo.496dca1f-2468-11ed-a346-80fa5b889135.xml\n",
      "Image:E:\\test proj\\TFODCourse\\Tensorflow\\workspace\\images\\collectedimages\\Bhalo\\Bhalo.1902dccb-2468-11ed-a2bb-80fa5b889135.jpg -> Annotation:E:/test proj/TFODCourse/Tensorflow/workspace/images/collectedimages/Bhalo/Bhalo.1902dccb-2468-11ed-a2bb-80fa5b889135.xml\n",
      "Image:E:\\test proj\\TFODCourse\\Tensorflow\\workspace\\images\\collectedimages\\Bhalo\\Bhalo.3099fa2e-2468-11ed-8301-80fa5b889135.jpg -> Annotation:E:/test proj/TFODCourse/Tensorflow/workspace/images/collectedimages/Bhalo/Bhalo.3099fa2e-2468-11ed-8301-80fa5b889135.xml\n",
      "Image:E:\\test proj\\TFODCourse\\Tensorflow\\workspace\\images\\collectedimages\\Bhalo\\Bhalo.011022e0-2468-11ed-bab9-80fa5b889135.jpg -> Annotation:E:/test proj/TFODCourse/Tensorflow/workspace/images/collectedimages/Bhalo/Bhalo.011022e0-2468-11ed-bab9-80fa5b889135.xml\n",
      "Image:E:\\test proj\\TFODCourse\\Tensorflow\\workspace\\images\\collectedimages\\Bhalo\\Bhalo.16991ddc-2468-11ed-8feb-80fa5b889135.jpg -> Annotation:E:/test proj/TFODCourse/Tensorflow/workspace/images/collectedimages/Bhalo/Bhalo.16991ddc-2468-11ed-8feb-80fa5b889135.xml\n",
      "Image:E:\\test proj\\TFODCourse\\Tensorflow\\workspace\\images\\collectedimages\\Bhalo\\Bhalo.47030f83-2468-11ed-bae4-80fa5b889135.jpg -> Annotation:E:/test proj/TFODCourse/Tensorflow/workspace/images/collectedimages/Bhalo/Bhalo.47030f83-2468-11ed-bae4-80fa5b889135.xml\n",
      "Image:E:\\test proj\\TFODCourse\\Tensorflow\\workspace\\images\\collectedimages\\Bhalo\\Bhalo.156287af-2468-11ed-a4f3-80fa5b889135.jpg -> Annotation:E:/test proj/TFODCourse/Tensorflow/workspace/images/collectedimages/Bhalo/Bhalo.156287af-2468-11ed-a4f3-80fa5b889135.xml\n",
      "Image:E:\\test proj\\TFODCourse\\Tensorflow\\workspace\\images\\collectedimages\\Bhalo\\Bhalo.02469918-2468-11ed-a67c-80fa5b889135.jpg -> Annotation:E:/test proj/TFODCourse/Tensorflow/workspace/images/collectedimages/Bhalo/Bhalo.02469918-2468-11ed-a67c-80fa5b889135.xml\n",
      "Image:E:\\test proj\\TFODCourse\\Tensorflow\\workspace\\images\\collectedimages\\Bhalo\\Bhalo.fea4b5f6-2467-11ed-8bd6-80fa5b889135.jpg -> Annotation:E:/test proj/TFODCourse/Tensorflow/workspace/images/collectedimages/Bhalo/Bhalo.fea4b5f6-2467-11ed-8bd6-80fa5b889135.xml\n",
      "Image:E:\\test proj\\TFODCourse\\Tensorflow\\workspace\\images\\collectedimages\\Bhalo\\Bhalo.ffdb392e-2467-11ed-be4c-80fa5b889135.jpg -> Annotation:E:/test proj/TFODCourse/Tensorflow/workspace/images/collectedimages/Bhalo/Bhalo.ffdb392e-2467-11ed-be4c-80fa5b889135.xml\n",
      "Image:E:\\test proj\\TFODCourse\\Tensorflow\\workspace\\images\\collectedimages\\Shundor\\Shundor.7a74594b-2468-11ed-9593-80fa5b889135.jpg -> Annotation:E:/test proj/TFODCourse/Tensorflow/workspace/images/collectedimages/Shundor/Shundor.7a74594b-2468-11ed-9593-80fa5b889135.xml\n",
      "Image:E:\\test proj\\TFODCourse\\Tensorflow\\workspace\\images\\collectedimages\\Shundor\\Shundor.8ab64cb5-2468-11ed-a69d-80fa5b889135.jpg -> Annotation:E:/test proj/TFODCourse/Tensorflow/workspace/images/collectedimages/Shundor/Shundor.8ab64cb5-2468-11ed-a69d-80fa5b889135.xml\n",
      "Image:E:\\test proj\\TFODCourse\\Tensorflow\\workspace\\images\\collectedimages\\Shundor\\Shundor.8beb4c31-2468-11ed-8365-80fa5b889135.jpg -> Annotation:E:/test proj/TFODCourse/Tensorflow/workspace/images/collectedimages/Shundor/Shundor.8beb4c31-2468-11ed-8365-80fa5b889135.xml\n",
      "Image:E:\\test proj\\TFODCourse\\Tensorflow\\workspace\\images\\collectedimages\\Shundor\\Shundor.8d1f2ac4-2468-11ed-bfcb-80fa5b889135.jpg -> Annotation:E:/test proj/TFODCourse/Tensorflow/workspace/images/collectedimages/Shundor/Shundor.8d1f2ac4-2468-11ed-bfcb-80fa5b889135.xml\n",
      "Image:E:\\test proj\\TFODCourse\\Tensorflow\\workspace\\images\\collectedimages\\Shundor\\Shundor.8e5317f7-2468-11ed-9b35-80fa5b889135.jpg -> Annotation:E:/test proj/TFODCourse/Tensorflow/workspace/images/collectedimages/Shundor/Shundor.8e5317f7-2468-11ed-9b35-80fa5b889135.xml\n",
      "Image:E:\\test proj\\TFODCourse\\Tensorflow\\workspace\\images\\collectedimages\\Shundor\\Shundor.9b73918a-2468-11ed-8e81-80fa5b889135.jpg -> Annotation:E:/test proj/TFODCourse/Tensorflow/workspace/images/collectedimages/Shundor/Shundor.9b73918a-2468-11ed-8e81-80fa5b889135.xml\n",
      "Image:E:\\test proj\\TFODCourse\\Tensorflow\\workspace\\images\\collectedimages\\Shundor\\Shundor.9ca996f7-2468-11ed-a34c-80fa5b889135.jpg -> Annotation:E:/test proj/TFODCourse/Tensorflow/workspace/images/collectedimages/Shundor/Shundor.9ca996f7-2468-11ed-a34c-80fa5b889135.xml\n",
      "Image:E:\\test proj\\TFODCourse\\Tensorflow\\workspace\\images\\collectedimages\\Shundor\\Shundor.9ddfb32d-2468-11ed-9bf0-80fa5b889135.jpg -> Annotation:E:/test proj/TFODCourse/Tensorflow/workspace/images/collectedimages/Shundor/Shundor.9ddfb32d-2468-11ed-9bf0-80fa5b889135.xml\n",
      "Image:E:\\test proj\\TFODCourse\\Tensorflow\\workspace\\images\\collectedimages\\Shundor\\Shundor.9f13985a-2468-11ed-a93e-80fa5b889135.jpg -> Annotation:E:/test proj/TFODCourse/Tensorflow/workspace/images/collectedimages/Shundor/Shundor.9f13985a-2468-11ed-a93e-80fa5b889135.xml\n",
      "Image:E:\\test proj\\TFODCourse\\Tensorflow\\workspace\\images\\collectedimages\\Shundor\\Shundor.76d6d833-2468-11ed-a8f6-80fa5b889135.jpg -> Annotation:E:/test proj/TFODCourse/Tensorflow/workspace/images/collectedimages/Shundor/Shundor.76d6d833-2468-11ed-a8f6-80fa5b889135.xml\n",
      "Image:E:\\test proj\\TFODCourse\\Tensorflow\\workspace\\images\\collectedimages\\Shundor\\Shundor.759f1980-2468-11ed-8f8a-80fa5b889135.jpg -> Annotation:E:/test proj/TFODCourse/Tensorflow/workspace/images/collectedimages/Shundor/Shundor.759f1980-2468-11ed-8f8a-80fa5b889135.xml\n",
      "Image:E:\\test proj\\TFODCourse\\Tensorflow\\workspace\\images\\collectedimages\\Shundor\\Shundor.780cf72b-2468-11ed-b891-80fa5b889135.jpg -> Annotation:E:/test proj/TFODCourse/Tensorflow/workspace/images/collectedimages/Shundor/Shundor.780cf72b-2468-11ed-b891-80fa5b889135.xml\n",
      "Image:E:\\test proj\\TFODCourse\\Tensorflow\\workspace\\images\\collectedimages\\Shundor\\Shundor.897f3efb-2468-11ed-a099-80fa5b889135.jpg -> Annotation:E:/test proj/TFODCourse/Tensorflow/workspace/images/collectedimages/Shundor/Shundor.897f3efb-2468-11ed-a099-80fa5b889135.xml\n",
      "Image:E:\\test proj\\TFODCourse\\Tensorflow\\workspace\\images\\collectedimages\\Shundor\\Shundor.7940a3fe-2468-11ed-b989-80fa5b889135.jpg -> Annotation:E:/test proj/TFODCourse/Tensorflow/workspace/images/collectedimages/Shundor/Shundor.7940a3fe-2468-11ed-b989-80fa5b889135.xml\n",
      "Image:E:\\test proj\\TFODCourse\\Tensorflow\\workspace\\images\\collectedimages\\Shundor\\Shundor.a0479f0d-2468-11ed-8b7f-80fa5b889135.jpg -> Annotation:E:/test proj/TFODCourse/Tensorflow/workspace/images/collectedimages/Shundor/Shundor.a0479f0d-2468-11ed-8b7f-80fa5b889135.xml\n",
      "Image:E:\\test proj\\TFODCourse\\Tensorflow\\workspace\\images\\collectedimages\\Shundor\\Shundor.b0ce9bb9-2468-11ed-992e-80fa5b889135.jpg -> Annotation:E:/test proj/TFODCourse/Tensorflow/workspace/images/collectedimages/Shundor/Shundor.b0ce9bb9-2468-11ed-992e-80fa5b889135.xml\n",
      "Image:E:\\test proj\\TFODCourse\\Tensorflow\\workspace\\images\\collectedimages\\Shundor\\Shundor.b5a7a056-2468-11ed-a3ce-80fa5b889135.jpg -> Annotation:E:/test proj/TFODCourse/Tensorflow/workspace/images/collectedimages/Shundor/Shundor.b5a7a056-2468-11ed-a3ce-80fa5b889135.xml\n",
      "Image:E:\\test proj\\TFODCourse\\Tensorflow\\workspace\\images\\collectedimages\\Shundor\\Shundor.b33eea00-2468-11ed-a739-80fa5b889135.jpg -> Annotation:E:/test proj/TFODCourse/Tensorflow/workspace/images/collectedimages/Shundor/Shundor.b33eea00-2468-11ed-a739-80fa5b889135.xml\n",
      "Image:E:\\test proj\\TFODCourse\\Tensorflow\\workspace\\images\\collectedimages\\Shundor\\Shundor.b20952d0-2468-11ed-9dff-80fa5b889135.jpg -> Annotation:E:/test proj/TFODCourse/Tensorflow/workspace/images/collectedimages/Shundor/Shundor.b20952d0-2468-11ed-9dff-80fa5b889135.xml\n",
      "Image:E:\\test proj\\TFODCourse\\Tensorflow\\workspace\\images\\collectedimages\\Shundor\\Shundor.b473264a-2468-11ed-8012-80fa5b889135.jpg -> Annotation:E:/test proj/TFODCourse/Tensorflow/workspace/images/collectedimages/Shundor/Shundor.b473264a-2468-11ed-8012-80fa5b889135.xml\n",
      "Image:E:\\test proj\\TFODCourse\\Tensorflow\\workspace\\images\\collectedimages\\Bhalo\\Bhalo.2bc57882-2468-11ed-a21f-80fa5b889135.jpg -> Annotation:E:/test proj/TFODCourse/Tensorflow/workspace/images/collectedimages/Bhalo/Bhalo.2bc57882-2468-11ed-a21f-80fa5b889135.xml\n",
      "Image:E:\\test proj\\TFODCourse\\Tensorflow\\workspace\\images\\collectedimages\\Bhalo\\Bhalo.2cff06de-2468-11ed-abd7-80fa5b889135.jpg -> Annotation:E:/test proj/TFODCourse/Tensorflow/workspace/images/collectedimages/Bhalo/Bhalo.2cff06de-2468-11ed-abd7-80fa5b889135.xml\n",
      "Image:E:\\test proj\\TFODCourse\\Tensorflow\\workspace\\images\\collectedimages\\Bhalo\\Bhalo.2e320871-2468-11ed-895d-80fa5b889135.jpg -> Annotation:E:/test proj/TFODCourse/Tensorflow/workspace/images/collectedimages/Bhalo/Bhalo.2e320871-2468-11ed-895d-80fa5b889135.xml\n",
      "Image:E:\\test proj\\TFODCourse\\Tensorflow\\workspace\\images\\collectedimages\\Bhalo\\Bhalo.2f65cdc1-2468-11ed-a329-80fa5b889135.jpg -> Annotation:E:/test proj/TFODCourse/Tensorflow/workspace/images/collectedimages/Bhalo/Bhalo.2f65cdc1-2468-11ed-a329-80fa5b889135.xml\n",
      "Image:E:\\test proj\\TFODCourse\\Tensorflow\\workspace\\images\\collectedimages\\Bhalo\\Bhalo.4aa2b8b8-2468-11ed-ae3c-80fa5b889135.jpg -> Annotation:E:/test proj/TFODCourse/Tensorflow/workspace/images/collectedimages/Bhalo/Bhalo.4aa2b8b8-2468-11ed-ae3c-80fa5b889135.xml\n",
      "Image:E:\\test proj\\TFODCourse\\Tensorflow\\workspace\\images\\collectedimages\\Bhalo\\Bhalo.4bd6e60c-2468-11ed-8a0e-80fa5b889135.jpg -> Annotation:E:/test proj/TFODCourse/Tensorflow/workspace/images/collectedimages/Bhalo/Bhalo.4bd6e60c-2468-11ed-8a0e-80fa5b889135.xml\n",
      "Image:E:\\test proj\\TFODCourse\\Tensorflow\\workspace\\images\\collectedimages\\Bhalo\\Bhalo.17cdc75b-2468-11ed-a674-80fa5b889135.jpg -> Annotation:E:/test proj/TFODCourse/Tensorflow/workspace/images/collectedimages/Bhalo/Bhalo.17cdc75b-2468-11ed-a674-80fa5b889135.xml\n"
     ]
    }
   ],
   "source": [
    "!cd {LABELIMG_PATH} && python labelImg.py"
   ]
  },
  {
   "cell_type": "markdown",
   "metadata": {},
   "source": [
    "# 7. Compression "
   ]
  },
  {
   "cell_type": "code",
   "execution_count": null,
   "metadata": {},
   "outputs": [],
   "source": [
    "TRAIN_PATH = os.path.join('Tensorflow', 'workspace', 'images', 'train')\n",
    "TEST_PATH = os.path.join('Tensorflow', 'workspace', 'images', 'test')\n",
    "ARCHIVE_PATH = os.path.join('Tensorflow', 'workspace', 'images', 'archive.tar.gz')"
   ]
  },
  {
   "cell_type": "code",
   "execution_count": null,
   "metadata": {},
   "outputs": [],
   "source": [
    "!tar -czf {ARCHIVE_PATH} {TRAIN_PATH} {TEST_PATH}"
   ]
  },
  {
   "cell_type": "markdown",
   "metadata": {},
   "source": []
  },
  {
   "cell_type": "code",
   "execution_count": null,
   "metadata": {},
   "outputs": [],
   "source": []
  }
 ],
 "metadata": {
  "kernelspec": {
   "display_name": "tfod",
   "language": "python",
   "name": "tfod"
  },
  "language_info": {
   "codemirror_mode": {
    "name": "ipython",
    "version": 3
   },
   "file_extension": ".py",
   "mimetype": "text/x-python",
   "name": "python",
   "nbconvert_exporter": "python",
   "pygments_lexer": "ipython3",
   "version": "3.10.1"
  }
 },
 "nbformat": 4,
 "nbformat_minor": 2
}
